{
 "cells": [
  {
   "cell_type": "markdown",
   "id": "e0a1e760",
   "metadata": {},
   "source": [
    "# COS/PSY 454 Final Project"
   ]
  },
  {
   "cell_type": "markdown",
   "id": "72081fe7",
   "metadata": {},
   "source": [
    "## Resources\n",
    "\n",
    "[Conditional-value-at-risk (CVAR) paper](https://www.sciencedirect.com/science/article/abs/pii/S0022249621000857)\n",
    "- Fig. 5: Risk-sensitive optimal policies in a 2-D problem\n",
    "\n",
    "[CVaR Repository](https://github.com/crgagne/cvar_jmathpsych_2021)\n",
    "\n",
    "[Simplified mental representations to plan](https://www.nature.com/articles/s41586-022-04743-9)"
   ]
  },
  {
   "cell_type": "markdown",
   "id": "80666bcf",
   "metadata": {},
   "source": [
    "## Imports"
   ]
  },
  {
   "cell_type": "code",
   "execution_count": 1,
   "id": "7438a1e9",
   "metadata": {},
   "outputs": [],
   "source": [
    "# Basics \n",
    "import numpy as np\n",
    "import sys\n",
    "import pickle\n",
    "import os\n",
    "\n",
    "# plotting \n",
    "import matplotlib.pyplot as plt\n",
    "import matplotlib\n",
    "import seaborn as sns\n",
    "%matplotlib inline \n",
    "from IPython.display import Image,display\n",
    "from matplotlib.offsetbox import TextArea, DrawingArea, OffsetImage, AnnotationBbox\n",
    "import matplotlib.image as mpimg\n",
    "import matplotlib.patches as patches\n",
    "from matplotlib.colors import LinearSegmentedColormap\n",
    "\n",
    "# Scipy \n",
    "import scipy \n",
    "import scipy.stats\n",
    "from scipy.optimize import minimize\n",
    "from scipy.stats import truncnorm\n",
    "from scipy.optimize import linprog\n",
    "from scipy.io import loadmat\n",
    "\n",
    "from scipy.stats import ttest_ind\n",
    "from scipy.stats import f_oneway\n",
    "\n",
    "import random"
   ]
  },
  {
   "cell_type": "code",
   "execution_count": 2,
   "id": "ba08951b",
   "metadata": {},
   "outputs": [],
   "source": [
    "np.random.seed(2)"
   ]
  },
  {
   "cell_type": "code",
   "execution_count": 3,
   "id": "aa718988",
   "metadata": {},
   "outputs": [],
   "source": [
    "# necessary paths\n",
    "sys.path.append('/Users/katiemclaughlin/Downloads/cvar')\n",
    "sys.path.append('/Users/katiemclaughlin/Downloads/cvar/policy_optimization')\n",
    "sys.path.append('/Users/katiemclaughlin/Downloads/cvar/shared')\n",
    "sys.path.append('/Users/katiemclaughlin/Downloads/cvar/plotting')\n",
    "\n",
    "from nCVaR_Value_Iteration import nCVaR_VI\n",
    "from pCVaR_Value_Iteration import pCVaR_VI\n",
    "from scenarios import Agent, setup_params\n",
    "from shared import induce_P\n",
    "\n",
    "from matpy_conversions import convert_SI_function, convert_SIA_function\n",
    "from plotting_basics import plot_q_or_pi, embellish_plot\n",
    "from plotting_twoD import plot_2D_arrows"
   ]
  },
  {
   "cell_type": "markdown",
   "id": "ca5c17c1",
   "metadata": {},
   "source": [
    "## Load MDP from MATLAB"
   ]
  },
  {
   "cell_type": "code",
   "execution_count": 4,
   "id": "9a632d60",
   "metadata": {
    "scrolled": true
   },
   "outputs": [
    {
     "name": "stdout",
     "output_type": "stream",
     "text": [
      "(36, 36, 4)\n",
      "x,x',a\n"
     ]
    },
    {
     "data": {
      "text/plain": [
       "array([0.  , 0.05, 0.1 , 0.3 , 0.6 , 1.  ])"
      ]
     },
     "execution_count": 4,
     "metadata": {},
     "output_type": "execute_result"
    }
   ],
   "source": [
    "# load old matlab results, which have useful info for MDP\n",
    "mat = loadmat('./simulation_results/2D_optimal_policy.mat')\n",
    "\n",
    "# Unpack \n",
    "Ny = mat['Y_set_all'].shape[1]\n",
    "Ns = mat['Y_set_all'].shape[0] # could subtract one here \n",
    "Na = 4\n",
    "gamma = mat['dis'][0][0]\n",
    "y_set = mat['Y_set_all'][0,:]\n",
    "P = mat['P']\n",
    "r = mat['r']\n",
    "print(P.shape)\n",
    "print(\"x,x',a\")\n",
    "y_set"
   ]
  },
  {
   "cell_type": "markdown",
   "id": "8b9940b7",
   "metadata": {},
   "source": [
    "### Modifying full environment"
   ]
  },
  {
   "cell_type": "code",
   "execution_count": 5,
   "id": "9451734b",
   "metadata": {},
   "outputs": [],
   "source": [
    "# fill lava pits in rewards\n",
    "for pit in (9, 14, 19, 24):\n",
    "    r[pit,:] = r[0,:]\n",
    "\n",
    "# add new (weighted) lava pits in rewards\n",
    "r[15,:] = np.repeat(-1, 4)\n",
    "r[18,:] = np.repeat(-4, 4)\n",
    "r[29,:] = 3 * r[29,:] \n",
    "r[31,:] = np.repeat(-2, 4)\n",
    "\n",
    "# make copies of full \n",
    "r_orig = r.copy()\n",
    "\n",
    "# fill in pit if necessary\n",
    "# r[18,:] = r[0,:]"
   ]
  },
  {
   "cell_type": "code",
   "execution_count": 6,
   "id": "523875c2",
   "metadata": {},
   "outputs": [
    {
     "data": {
      "text/plain": [
       "array([[ 0,  0,  0,  0],\n",
       "       [ 0,  0,  0,  0],\n",
       "       [ 0,  0,  0,  0],\n",
       "       [ 0,  0,  0,  0],\n",
       "       [ 0,  0,  0,  0],\n",
       "       [ 0,  0,  0,  0],\n",
       "       [ 0,  0,  0,  0],\n",
       "       [ 0,  0,  0,  0],\n",
       "       [ 0,  0,  0,  0],\n",
       "       [ 0,  0,  0,  0],\n",
       "       [ 0,  0,  0,  0],\n",
       "       [ 0,  0,  0,  0],\n",
       "       [ 0,  0,  0,  0],\n",
       "       [ 0,  0,  0,  0],\n",
       "       [ 0,  0,  0,  0],\n",
       "       [-1, -1, -1, -1],\n",
       "       [ 0,  0,  0,  0],\n",
       "       [ 0,  0,  0,  0],\n",
       "       [-4, -4, -4, -4],\n",
       "       [ 0,  0,  0,  0],\n",
       "       [ 0,  0,  0,  0],\n",
       "       [ 0,  0,  0,  0],\n",
       "       [ 0,  0,  0,  0],\n",
       "       [ 0,  0,  0,  0],\n",
       "       [ 0,  0,  0,  0],\n",
       "       [ 0,  0,  0,  0],\n",
       "       [ 0,  0,  0,  0],\n",
       "       [ 0,  0,  0,  0],\n",
       "       [ 0,  0,  0,  0],\n",
       "       [-3, -3, -3, -3],\n",
       "       [ 0,  0,  0,  0],\n",
       "       [-2, -2, -2, -2],\n",
       "       [ 0,  0,  0,  0],\n",
       "       [ 3,  3,  3,  3],\n",
       "       [ 0,  0,  0,  0],\n",
       "       [ 0,  0,  0,  0]], dtype=int16)"
      ]
     },
     "execution_count": 6,
     "metadata": {},
     "output_type": "execute_result"
    }
   ],
   "source": [
    "r"
   ]
  },
  {
   "cell_type": "code",
   "execution_count": 7,
   "id": "d024ae0f",
   "metadata": {},
   "outputs": [],
   "source": [
    "P_temp = np.copy(P)"
   ]
  },
  {
   "cell_type": "code",
   "execution_count": 8,
   "id": "f3389e00",
   "metadata": {},
   "outputs": [
    {
     "data": {
      "text/plain": [
       "'\\ny = 18\\nP[y][y] = np.repeat(0, 4)\\nP[y][y-5] = t_left\\nP[y][y+5] = t_right\\nP[y][y-1] = t_up\\nP[y][y+1] = t_down\\nP[y][35] = np.repeat(0, 4)\\n'"
      ]
     },
     "execution_count": 8,
     "metadata": {},
     "output_type": "execute_result"
    }
   ],
   "source": [
    "# TRANSITION PROBABILITY MATRIX\n",
    "\n",
    "p93 = P_temp[0][0][0]\n",
    "p6 = P_temp[0][0][1]\n",
    "p3 = P_temp[0][1][0]\n",
    "\n",
    "t_left = P_temp[5][0]\n",
    "t_right = P_temp[0][5]\n",
    "t_up = P_temp[1][0]\n",
    "t_down = P_temp[0][1]\n",
    "\n",
    "t_pit = P_temp[9]\n",
    "\n",
    "# set probability transitions \n",
    "P[9][9] = [p6, p93, p6, p93]\n",
    "P[9][8] = t_up\n",
    "P[9][14] = t_right\n",
    "P[9][35] = np.repeat(0, 4) # no longer a pit\n",
    "\n",
    "for y in (14, 19, 24): \n",
    "    P[y][y] = t_down\n",
    "    P[y][y-5] = t_left\n",
    "    P[y][y-1] = t_up\n",
    "    P[y][y+5] = t_right\n",
    "    P[y][35] = np.repeat(0, 4) # no longer a pit\n",
    "\n",
    "# new pit alert !!\n",
    "P[15] = t_pit \n",
    "P[18] = t_pit \n",
    "P[29] = t_pit\n",
    "P[31] = t_pit \n",
    "\n",
    "# make a copy\n",
    "P_orig = P.copy()\n",
    "\n",
    "# potentially fill pit\n",
    "'''\n",
    "y = 18\n",
    "P[y][y] = np.repeat(0, 4)\n",
    "P[y][y-5] = t_left\n",
    "P[y][y+5] = t_right\n",
    "P[y][y-1] = t_up\n",
    "P[y][y+1] = t_down\n",
    "P[y][35] = np.repeat(0, 4)\n",
    "'''"
   ]
  },
  {
   "cell_type": "code",
   "execution_count": 9,
   "id": "9e4b049b",
   "metadata": {},
   "outputs": [],
   "source": [
    "# check all states in prob matrix, ensure sum to 4\n",
    "for i in range(36):\n",
    "    temp_sum = np.sum(P[i])\n",
    "    if temp_sum != 4:\n",
    "        print(i)"
   ]
  },
  {
   "cell_type": "code",
   "execution_count": 10,
   "id": "708df840",
   "metadata": {},
   "outputs": [],
   "source": [
    "testcase = 1\n",
    "p,maze = setup_params(testcase) \n",
    "#agent = setup_agent_and_MDP(p,maze) \n",
    "maze[4,0]=1\n",
    "maze[4,6]=1\n",
    "\n",
    "agent = Agent({'num_states':Ns-1,\n",
    "               'num_actions':Na,\n",
    "               'start_states':[4],'r_params':p['r_params']},maze)"
   ]
  },
  {
   "cell_type": "markdown",
   "id": "e11f715d",
   "metadata": {},
   "source": [
    "## Running nCVaR (nested) Value Iteration"
   ]
  },
  {
   "cell_type": "code",
   "execution_count": 20,
   "id": "cefd056a",
   "metadata": {},
   "outputs": [
    {
     "name": "stderr",
     "output_type": "stream",
     "text": [
      "/Users/katiemclaughlin/opt/anaconda3/envs/psy454/lib/python3.7/site-packages/scipy/optimize/optimize.py:283: RuntimeWarning: Values in x were outside bounds during a minimize step, clipping to bounds\n",
      "  \"minimize step, clipping to bounds\", RuntimeWarning)\n"
     ]
    },
    {
     "name": "stdout",
     "output_type": "stream",
     "text": [
      "--- 1237.5012938976288 seconds ---\n"
     ]
    }
   ],
   "source": [
    "# Run Policy Iteration\n",
    "V0 = np.repeat((mat['V_Exp']/10),Ny,1);\n",
    "P_full = np.repeat(P[:,:,np.newaxis,:],Ny,axis=2) # broadcast across Y dimension\n",
    "r_x = r[:,0]\n",
    "\n",
    "(Vd,Qd,Xid,Pid,V_storaged,Q_storaged,Xi_storaged,\n",
    " pointwise_errord,V_convergedd,multi_startsd) = nCVaR_VI(V0,\n",
    "            Ns,Ny,Na,\n",
    "            P_full,\n",
    "            gamma,\n",
    "            y_set,\n",
    "            r_x, # only per state \n",
    "            check_pointwise_iters=3,\n",
    "            pointwise_window=3,\n",
    "            min_multi_starts=5,\n",
    "            max_multi_starts=5,\n",
    "            max_iters=100,\n",
    "            verbose=False,\n",
    "            converg_thresh = 10e-5,\n",
    "            yi_pr=None,\n",
    "            converg_type = 'full_eval')"
   ]
  },
  {
   "cell_type": "markdown",
   "id": "4ae73c9a",
   "metadata": {},
   "source": [
    "### Save"
   ]
  },
  {
   "cell_type": "code",
   "execution_count": 86,
   "id": "7ad95b13",
   "metadata": {},
   "outputs": [
    {
     "data": {
      "text/plain": [
       "'/Users/katiemclaughlin/Downloads/cvar/simulation_results/2D_optimal_policy_nCVaR_duh_134.npz'"
      ]
     },
     "execution_count": 86,
     "metadata": {},
     "output_type": "execute_result"
    }
   ],
   "source": [
    "# fname = '/Users/katiemclaughlin/Downloads/cvar/simulation_results/2D_optimal_policy_nCVaR_hm_134.npz'\n",
    "fname = '/Users/katiemclaughlin/Downloads/cvar/simulation_results/2D_optimal_policy_nCVaR_duh_134.npz' \n",
    "# fname = '/Users/katiemclaughlin/Downloads/cvar/simulation_results/2D_optimal_policy_nCVaR.npz'\n",
    "fname"
   ]
  },
  {
   "cell_type": "code",
   "execution_count": 102,
   "id": "23cc57b8",
   "metadata": {},
   "outputs": [],
   "source": [
    "#np.savez(fname,*[Vd,Xid,V_storaged,Qd,Q_storaged,Xid,Xi_storaged])"
   ]
  },
  {
   "cell_type": "markdown",
   "id": "a63f5639",
   "metadata": {},
   "source": [
    "### Load"
   ]
  },
  {
   "cell_type": "code",
   "execution_count": 87,
   "id": "c5399a65",
   "metadata": {},
   "outputs": [],
   "source": [
    "container = np.load(fname)\n",
    "data = [container[key] for key in container]\n",
    "Vd = data[0]\n",
    "Xid = data[1]\n",
    "V_storaged=data[2]\n",
    "Qd = data[3]\n",
    "Q_storaged = data[4]\n",
    "Xid = data[5]\n",
    "Xi_storaged = data[6]"
   ]
  },
  {
   "cell_type": "code",
   "execution_count": null,
   "id": "ad8bb5c8",
   "metadata": {
    "scrolled": true
   },
   "outputs": [],
   "source": [
    "Xi_storaged.shape\n",
    "\n",
    "for y in range(6): #[1,5,11,15,18,20]:\n",
    "    plt.figure()\n",
    "    plt.title('y='+str(np.round(y_set[y],2)))\n",
    "    plt.plot(V_storaged[:,:,y]);\n",
    "    plt.xlabel('iterations')\n",
    "    plt.ylabel('V(x,y='+str(np.round(y_set[y],2))+')')"
   ]
  },
  {
   "cell_type": "markdown",
   "id": "84839289",
   "metadata": {},
   "source": [
    "## Plotting\n",
    "\n",
    "### Optimal Actions"
   ]
  },
  {
   "cell_type": "code",
   "execution_count": 88,
   "id": "d83d0c03",
   "metadata": {},
   "outputs": [],
   "source": [
    "roundoff = 5\n",
    "Pol_d = np.zeros_like(Qd)\n",
    "for yi in range(len(y_set)):\n",
    "    for x in range(Ns):\n",
    "             \n",
    "        # round to roundoff decimmals\n",
    "        minn = np.min(np.round(Qd[x,yi,:],roundoff))\n",
    "        Pol_d[x,yi,np.round(Qd[x,yi,:],roundoff)==minn]=1"
   ]
  },
  {
   "cell_type": "code",
   "execution_count": 89,
   "id": "7ce70ff4",
   "metadata": {},
   "outputs": [],
   "source": [
    "Vd_py = convert_SI_function(Vd,agent,neg_term_states=[],num_inter_points=6)\n",
    "Pol_d_py = convert_SIA_function(Pol_d,agent,neg_term_states=[],num_inter_points=6)"
   ]
  },
  {
   "cell_type": "markdown",
   "id": "d528ef1a",
   "metadata": {},
   "source": [
    "### Optimal Action Grid Plots"
   ]
  },
  {
   "cell_type": "code",
   "execution_count": 137,
   "id": "3dc8bd1c",
   "metadata": {
    "scrolled": false
   },
   "outputs": [
    {
     "data": {
      "text/plain": [
       "Text(0.05, 0.5, 'state ($x$)')"
      ]
     },
     "execution_count": 137,
     "metadata": {},
     "output_type": "execute_result"
    },
    {
     "data": {
      "image/png": "[encoded data removed]",
      "text/plain": [
       "<Figure size 1600x1000 with 1 Axes>"
      ]
     },
     "metadata": {},
     "output_type": "display_data"
    }
   ],
   "source": [
    "alpha_ind=5 #alpha = 1\n",
    "\n",
    "alpha = y_set[alpha_ind]\n",
    "\n",
    "# Plot \n",
    "fig,ax = plt.subplots(1,1,figsize=(8,5),dpi=200)\n",
    "term_states_for_plotting=[3,13,24,27,28,33,33,34]\n",
    "# term_states_for_plotting=[3,13,24,27,28,33,34]\n",
    "Qrange = [-3,3]\n",
    "\n",
    "# Value Underlay \n",
    "plot_q_or_pi(np.zeros_like(Pol_d_py[:,alpha_ind,:]),\n",
    "             -1*Vd_py[:,alpha_ind].reshape(agent.maze.shape),\n",
    "             '',ax,agent.maze,q_or_pi='q',\n",
    "            roundoff=1,inc_triangles=False,\n",
    "             tri_add_labels=False,annot_value=False,Qrange=Qrange,\n",
    "             term_states_for_plotting=term_states_for_plotting,n_colors=100)\n",
    "\n",
    "\n",
    "# Policy as Arrows\n",
    "\n",
    "plot_2D_arrows(Pol_d_py[:,alpha_ind,:],\n",
    "               alpha_ind,maze,question=True,\n",
    "               term_states_for_plotting=term_states_for_plotting)\n",
    "\n",
    "embellish_plot(ax,agent.maze,\n",
    "    agent,None,\n",
    "    cost=True,\n",
    "    corner_labels=False,\n",
    "    color_agent='b',\n",
    "    center_rewards=False,\n",
    "    r_fontsize=14,\n",
    "    add_rewards=False,ec='white',fc='white',alpha=0.0,outer_lw=2,reward_color='k')\n",
    "\n",
    "# added for lava pits\n",
    "fs=16\n",
    "\n",
    "x_pos = np.array([5, 3, 3, 6])\n",
    "y_pos = np.array([4, 3, 0, 1])\n",
    "rewards = np.array([-2, -1, -4, -3])\n",
    "'''\n",
    "x_pos = np.array([6, 5, 3])\n",
    "y_pos = np.array([1, 4, 0])\n",
    "rewards = np.array([-1, -4, -3])\n",
    "'''\n",
    "for i in range(4): \n",
    "    arr_img = mpimg.imread('/Users/katiemclaughlin/Downloads/cvar/mscl/lava_pit.png')\n",
    "    imagebox = OffsetImage(arr_img , zoom=.013)\n",
    "    ab = AnnotationBbox(imagebox, (x_pos[i], y_pos[i]-.1),pad=0)\n",
    "    ax.add_artist(ab)\n",
    "    \n",
    "    plt.text(x_pos[i],y_pos[i]+0.3,r'$r$=%s'%(rewards[i]),fontsize=fs-2,zorder=10,va='center',ha='center',color='k')\n",
    "    \n",
    "'''\n",
    "\n",
    "for i in range(1,6):\n",
    "     plt.text(i,4.3,r'$r$=-1',fontsize=fs-2,zorder=10,va='center',ha='center',color='k')\n",
    "'''\n",
    "plt.text(6,3.35,'$r$=3',fontsize=fs,zorder=3,va='center',ha='center',color='k')\n",
    "plt.text(0,3.35,r'$x_0$',fontsize=fs+2,zorder=3,va='center',ha='center',color='k')\n",
    "\n",
    "plt.title(r'$\\bar{\\alpha}$='+str(np.round(alpha,2)),fontsize=fs)\n",
    "\n",
    "# arrows\n",
    "x0=0.1; y0=0\n",
    "x1=0.9; y1=0\n",
    "plt.arrow(x1,y1,x0-x1,y0-y1,transform=plt.gcf().transFigure,\n",
    "         color='k',clip_on=False,head_width=.01)\n",
    "plt.arrow(x0,y0,x1-x0,y1-y0,transform=plt.gcf().transFigure,\n",
    "         color='k',clip_on=False,head_width=.01)\n",
    "plt.text((x0+x1)/2,y0-0.05,r'state ($x$)',\n",
    "             transform=plt.gcf().transFigure,clip_on=False,\n",
    "             rotation=0,fontsize=fs,ha='center')\n",
    "\n",
    "# arrows\n",
    "x0=0.07; y0=0.1\n",
    "x1=0.07; y1=0.9\n",
    "plt.arrow(x1,y1,x0-x1,y0-y1,transform=plt.gcf().transFigure,\n",
    "         color='k',clip_on=False,head_width=.01)\n",
    "plt.arrow(x0,y0,x1-x0,y1-y0,transform=plt.gcf().transFigure,\n",
    "         color='k',clip_on=False,head_width=.01)\n",
    "plt.text(x0-0.02,(y0+y1)/2,r'state ($x$)',\n",
    "             transform=plt.gcf().transFigure,clip_on=False,\n",
    "             rotation=90,fontsize=fs,va='center',ha='center')\n"
   ]
  },
  {
   "cell_type": "markdown",
   "id": "00aba3c1",
   "metadata": {},
   "source": [
    "## Evaluation\n",
    "\n",
    "Run optimal policy on original environment and calculate average reward over `episodes` number of iterations"
   ]
  },
  {
   "cell_type": "code",
   "execution_count": 12,
   "id": "e3f6c274",
   "metadata": {},
   "outputs": [],
   "source": [
    "####\n",
    "# based on the action taken from position x\n",
    "# returns x prime, x_p: the next state\n",
    "####\n",
    "def calculate_x_p(x, action):\n",
    "    if action == 0 and x % 5 != 0: # up\n",
    "        x_p = x - 1\n",
    "    elif action == 1 and (x != 3 and (x + 1) % 5 != 0): # down\n",
    "        x_p = x + 1\n",
    "    elif action == 2 and x < 29: # right\n",
    "        x_p = x + 5\n",
    "    elif action == 3 and (x != 9 and x > 4): # left\n",
    "        x_p = x - 5\n",
    "    else:\n",
    "        x_p = x\n",
    "    \n",
    "    return x_p"
   ]
  },
  {
   "cell_type": "code",
   "execution_count": 13,
   "id": "9dc59c97",
   "metadata": {},
   "outputs": [],
   "source": [
    "####\n",
    "# step in environment with the following parameters:\n",
    "#     x (int): current position\n",
    "#     action (int): up (0), down (1), right (2), left (3) in line with optimal policy pi       \n",
    "#     P (np array): transition probability matrix\n",
    "#     r (np array): rewards matrix\n",
    "# returns the following variables:\n",
    "#     x_p (int): x_prime, the next position\n",
    "#     is_done (boolean): true if successfully completes end of maze or hit a lava pit\n",
    "####\n",
    "def step(x, action, P, r):\n",
    "    # calculate next position from x according to action\n",
    "    x_p = calculate_x_p(x, action)\n",
    "    ##print('Intended x prime: {0}'.format(x_p))\n",
    "    \n",
    "    # draw from a random uniform distribution and see if slippery-ness takes hold\n",
    "    rand_prob = random.uniform(0, 1) \n",
    "    bucket_arr = np.cumsum(P[x][x_p])\n",
    "    ##print('Probability: {0}.  Array: {1}'.format(rand_prob, bucket_arr))\n",
    "    \n",
    "    # see where step actually ends up\n",
    "    if rand_prob < bucket_arr[0]: # up\n",
    "        ##print('Going up')\n",
    "        x_p = calculate_x_p(x, 0)\n",
    "    elif rand_prob < bucket_arr[1]: # down\n",
    "        ##print('Going down')\n",
    "        x_p = calculate_x_p(x, 1)\n",
    "    elif rand_prob < bucket_arr[2]: # right\n",
    "        ##print('Going right')\n",
    "        x_p = calculate_x_p(x, 2)\n",
    "    else: # left\n",
    "        ##print('Going left')\n",
    "        x_p = calculate_x_p(x, 3)\n",
    "    \n",
    "    ## print('Actual x prime: {0}'.format(x_p))\n",
    "    # check if x_p is a lava pit or a successful finish\n",
    "    if np.array_equal(P[x_p][35], np.ones(4)):\n",
    "        return x_p, True\n",
    "    else:\n",
    "        return x_p, False"
   ]
  },
  {
   "cell_type": "code",
   "execution_count": 94,
   "id": "14ed8f8a",
   "metadata": {},
   "outputs": [],
   "source": [
    "# set alpha values\n",
    "alpha_ind = 3\n",
    "alpha = y_set[alpha_ind]\n",
    "\n",
    "# reshape optimal policy from graphing Pol_d_py into pi so that indexing aligns with P\n",
    "last_row = Pol_d_py[:,alpha_ind,:][34]\n",
    "\n",
    "pi = np.transpose(Pol_d_py[:,alpha_ind,:35].reshape(5, 7, 4), (1, 0, 2)).reshape(35, 4)\n",
    "pi = np.append(pi, last_row.reshape(1, 4), axis=0)"
   ]
  },
  {
   "cell_type": "code",
   "execution_count": 95,
   "id": "10a09b57",
   "metadata": {},
   "outputs": [
    {
     "name": "stdout",
     "output_type": "stream",
     "text": [
      "Average reward for 20000 iterations: -1.54\n"
     ]
    }
   ],
   "source": [
    "# run through environment and calculate average reward\n",
    "\n",
    "num_iters = 20000 # number of iterations\n",
    "\n",
    "total_rewards = 0\n",
    "all_rewards = []\n",
    "\n",
    "for i_iter in range(num_iters):\n",
    "    x = 3 # start index\n",
    "    reward = 0\n",
    "    is_done = False\n",
    "    \n",
    "    # run agent\n",
    "    while not is_done:\n",
    "        # try to step in direction of optimal policy with gamma = 0.9\n",
    "        action = np.where(pi[x] == 1)[0][0]\n",
    "        x, is_done = step(x, action, P_orig, r_orig)\n",
    "        \n",
    "        # check to see if episode is done\n",
    "        if is_done:\n",
    "            reward = r_orig[x][0]\n",
    "    \n",
    "    all_rewards.append(reward)\n",
    "    total_rewards += reward\n",
    "\n",
    "print('Average reward for {0} iterations: {1:.2f}'.format(num_iters, total_rewards/num_iters))"
   ]
  },
  {
   "cell_type": "code",
   "execution_count": 81,
   "id": "94dadee3",
   "metadata": {},
   "outputs": [],
   "source": [
    "# run this cell with correct variable to save corresponding values\n",
    "# rewards_full_a1, rewards_full_a6, rewards_full_a3, rewards_curr_a1, rewards_curr_a6, rewards_curr_a3\n",
    "\n",
    "rewards_curr_a3 = all_rewards.copy() "
   ]
  },
  {
   "cell_type": "markdown",
   "id": "2af3c3b6",
   "metadata": {},
   "source": [
    "## Statistical Significance"
   ]
  },
  {
   "cell_type": "code",
   "execution_count": 213,
   "id": "f6610174",
   "metadata": {},
   "outputs": [
    {
     "name": "stdout",
     "output_type": "stream",
     "text": [
      "p value = 0.78088\n"
     ]
    }
   ],
   "source": [
    "# ANOVA between three alpha values in same configuration\n",
    "# anova_p = f_oneway(rewards_full_a1, rewards_full_a6, rewards_full_a3).pvalue\n",
    "anova_p = f_oneway(rewards_curr_a1, rewards_curr_a6, rewards_curr_a3).pvalue\n",
    "print('p value = {0:.5f}'.format(anova_p))"
   ]
  },
  {
   "cell_type": "code",
   "execution_count": 214,
   "id": "79b7c745",
   "metadata": {},
   "outputs": [
    {
     "name": "stdout",
     "output_type": "stream",
     "text": [
      "p_1 = 0.000\n",
      "p_0.6 = 0.000\n",
      "p_0.3 = 0.000\n"
     ]
    }
   ],
   "source": [
    "# t-test between configuration and respective alpha-level configuration in all\n",
    "t_1 = ttest_ind(rewards_full_a1, rewards_curr_a1).pvalue\n",
    "t_6 = ttest_ind(rewards_full_a6, rewards_curr_a6).pvalue\n",
    "t_3 = ttest_ind(rewards_full_a3, rewards_curr_a3).pvalue\n",
    "print('p_1 = {0:.3f}'.format(t_1))\n",
    "print('p_0.6 = {0:.3f}'.format(t_6))\n",
    "print('p_0.3 = {0:.3f}'.format(t_3))"
   ]
  },
  {
   "cell_type": "markdown",
   "id": "2add2ad8",
   "metadata": {},
   "source": [
    "## Calculate CVaR"
   ]
  },
  {
   "cell_type": "code",
   "execution_count": 120,
   "id": "0fe32048",
   "metadata": {},
   "outputs": [
    {
     "name": "stdout",
     "output_type": "stream",
     "text": [
      "CVaR alpha=0.2 Mean = -2.01\n"
     ]
    }
   ],
   "source": [
    "# set alpha value\n",
    "tail_alpha = 0.2\n",
    "tail_index = int(tail_alpha * len(all_rewards))\n",
    "\n",
    "# isolate lower tail\n",
    "all_rewards.sort()\n",
    "lower_tail = all_rewards[:tail_index]\n",
    "\n",
    "# calcualte CVaR mean of lower alpha tail\n",
    "mean = np.mean(lower_tail)\n",
    "print('CVaR alpha={0:.1f} Mean = {1:.2f}'.format(tail_alpha, mean))"
   ]
  },
  {
   "cell_type": "code",
   "execution_count": 121,
   "id": "a222176f",
   "metadata": {},
   "outputs": [],
   "source": [
    "rewards_curr_a1.sort()\n",
    "lower_a1 = rewards_curr_a1[:tail_index]\n",
    "\n",
    "rewards_curr_a6.sort()\n",
    "lower_a6 = rewards_curr_a6[:tail_index]\n",
    "\n",
    "rewards_curr_a3.sort()\n",
    "lower_a3 = rewards_curr_a3[:tail_index]"
   ]
  },
  {
   "cell_type": "code",
   "execution_count": 124,
   "id": "a6efaed8",
   "metadata": {},
   "outputs": [
    {
     "data": {
      "text/plain": [
       "0.0"
      ]
     },
     "execution_count": 124,
     "metadata": {},
     "output_type": "execute_result"
    }
   ],
   "source": [
    "ttest_ind(lower_a6,lower_a1).pvalue"
   ]
  },
  {
   "cell_type": "markdown",
   "id": "ae361550",
   "metadata": {},
   "source": [
    "## Graph Distribution of Rewards"
   ]
  },
  {
   "cell_type": "code",
   "execution_count": 96,
   "id": "d1df5de1",
   "metadata": {},
   "outputs": [],
   "source": [
    "bins = [-4, -3, -2, -1, 0, 1, 2, 3, 4]\n",
    "counts, bins = np.histogram(all_rewards, bins = bins)\n",
    "from matplotlib.ticker import PercentFormatter"
   ]
  },
  {
   "cell_type": "code",
   "execution_count": 103,
   "id": "fdb6b136",
   "metadata": {},
   "outputs": [
    {
     "data": {
      "image/png": "[encoded data removed]",
      "text/plain": [
       "<Figure size 640x480 with 1 Axes>"
      ]
     },
     "metadata": {},
     "output_type": "display_data"
    }
   ],
   "source": [
    "fig, ax = plt.subplots()\n",
    "\n",
    "# distribution\n",
    "plt.hist(all_rewards, bins = bins, density=True, edgecolor='k', align='left')\n",
    "\n",
    "# CVaR Line #\n",
    "plt.axvline(x=-2.01,\n",
    "            ymax=0.98,\n",
    "            color='k',linestyle='--',linewidth=1,zorder=3)\n",
    "plt.text(-2.01-0.8,\n",
    "         0.9,r'CVaR$_{\\alpha=0.2}$',fontsize=12)\n",
    "\n",
    "# formatting\n",
    "ax.spines['top'].set_visible(False)\n",
    "ax.spines['right'].set_visible(False)\n",
    "\n",
    "plt.xlabel('outcomes')\n",
    "plt.ylabel('percentage of runs')\n",
    "plt.title(r'$\\alpha=0.3$')\n",
    "\n",
    "plt.show()"
   ]
  },
  {
   "cell_type": "code",
   "execution_count": null,
   "id": "af649967",
   "metadata": {},
   "outputs": [],
   "source": []
  }
 ],
 "metadata": {
  "kernelspec": {
   "display_name": "Python 3 (ipykernel)",
   "language": "python",
   "name": "python3"
  },
  "language_info": {
   "codemirror_mode": {
    "name": "ipython",
    "version": 3
   },
   "file_extension": ".py",
   "mimetype": "text/x-python",
   "name": "python",
   "nbconvert_exporter": "python",
   "pygments_lexer": "ipython3",
   "version": "3.7.13"
  }
 },
 "nbformat": 4,
 "nbformat_minor": 5
}
